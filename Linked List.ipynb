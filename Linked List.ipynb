{
 "cells": [
  {
   "cell_type": "code",
   "execution_count": 5,
   "id": "through-marker",
   "metadata": {},
   "outputs": [
    {
     "name": "stdout",
     "output_type": "stream",
     "text": [
      "no. 0 8\n",
      "no. 1 6\n",
      "no. 2 2\n",
      "no. 3 5\n",
      "\n",
      "no. 0 8\n",
      "no. 1 6\n",
      "no. 2 5\n"
     ]
    }
   ],
   "source": [
    "class Node:\n",
    "    def __init__(self, d, n=None):\n",
    "        self.root = d\n",
    "        self.next_node = n\n",
    "        \n",
    "    def get_root(self):\n",
    "        return self.root\n",
    "    \n",
    "    def set_root(self, val):\n",
    "        self.next_node = val\n",
    "        \n",
    "    def get_next(self):\n",
    "        return self.next_node\n",
    "    \n",
    "    def set_next(self, val):\n",
    "        self.next_node = val\n",
    "        \n",
    "class LinkedList:\n",
    "    def __init__(self, r=None):\n",
    "        self.root = r\n",
    "        self.length = 0\n",
    "        \n",
    "    def insert(self, val):\n",
    "        new_node = Node(val, self.root)\n",
    "        self.root = new_node\n",
    "        self.length += 1\n",
    "        \n",
    "    def search(self, val):\n",
    "        this_node = self.root\n",
    "        while this_node:\n",
    "            if this_node.get_root() == val:\n",
    "                return f'{val} found'\n",
    "            else:\n",
    "                this_node = this_node.get_next()\n",
    "        return f'{val} not found'\n",
    "    \n",
    "    def remove(self, val):\n",
    "        this_node = self.root\n",
    "        prev_node = None\n",
    "        while this_node:\n",
    "            if this_node.get_root() == val:\n",
    "                if prev_node:\n",
    "                    prev_node.set_next(this_node.get_next())\n",
    "                else:\n",
    "                    self.root = None\n",
    "                self.length -= 1\n",
    "                return f'{val} removed'\n",
    "            else:\n",
    "                prev_node = this_node\n",
    "                this_node = this_node.get_next()\n",
    "            \n",
    "        return f'{val} not found'\n",
    "    \n",
    "    def print_list(self):\n",
    "        this_node = self.root\n",
    "        for node in range(self.length):\n",
    "            print('no.',node, this_node.get_root())\n",
    "            this_node = this_node.get_next()\n",
    "    \n",
    "ll = LinkedList()\n",
    "ll.insert(5)\n",
    "ll.insert(2)\n",
    "ll.insert(6)\n",
    "ll.insert(8)\n",
    "ll.print_list()\n",
    "print()\n",
    "ll.remove(2)\n",
    "ll.print_list()"
   ]
  },
  {
   "cell_type": "code",
   "execution_count": null,
   "id": "provincial-buyer",
   "metadata": {},
   "outputs": [],
   "source": []
  }
 ],
 "metadata": {
  "kernelspec": {
   "display_name": "Python 3",
   "language": "python",
   "name": "python3"
  },
  "language_info": {
   "codemirror_mode": {
    "name": "ipython",
    "version": 3
   },
   "file_extension": ".py",
   "mimetype": "text/x-python",
   "name": "python",
   "nbconvert_exporter": "python",
   "pygments_lexer": "ipython3",
   "version": "3.9.7"
  }
 },
 "nbformat": 4,
 "nbformat_minor": 5
}
