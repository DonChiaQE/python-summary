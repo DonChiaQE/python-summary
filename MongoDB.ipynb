{
 "cells": [
  {
   "cell_type": "code",
   "execution_count": 2,
   "id": "pharmaceutical-lover",
   "metadata": {},
   "outputs": [],
   "source": [
    "from pymongo import MongoClient # better than importing pymongo\n",
    "client = MongoClient('127.0.0.1', 27017)\n",
    "db = client['pokemon']\n",
    "col = db['moves']\n",
    "col.drop() # drop collection"
   ]
  },
  {
   "cell_type": "code",
   "execution_count": 3,
   "id": "impossible-pointer",
   "metadata": {},
   "outputs": [
    {
     "ename": "FileNotFoundError",
     "evalue": "[Errno 2] No such file or directory: 'moves.json'",
     "output_type": "error",
     "traceback": [
      "\u001b[0;31m---------------------------------------------------------------------------\u001b[0m",
      "\u001b[0;31mFileNotFoundError\u001b[0m                         Traceback (most recent call last)",
      "\u001b[0;32m<ipython-input-3-9b2b4fe8ac0a>\u001b[0m in \u001b[0;36m<module>\u001b[0;34m\u001b[0m\n\u001b[1;32m      2\u001b[0m \u001b[0;32mimport\u001b[0m \u001b[0mjson\u001b[0m\u001b[0;34m\u001b[0m\u001b[0;34m\u001b[0m\u001b[0m\n\u001b[1;32m      3\u001b[0m \u001b[0;34m\u001b[0m\u001b[0m\n\u001b[0;32m----> 4\u001b[0;31m \u001b[0;32mwith\u001b[0m \u001b[0mopen\u001b[0m\u001b[0;34m(\u001b[0m\u001b[0;34m'moves.json'\u001b[0m\u001b[0;34m,\u001b[0m \u001b[0;34m'r'\u001b[0m\u001b[0;34m)\u001b[0m \u001b[0;32mas\u001b[0m \u001b[0mf\u001b[0m\u001b[0;34m:\u001b[0m\u001b[0;34m\u001b[0m\u001b[0;34m\u001b[0m\u001b[0m\n\u001b[0m\u001b[1;32m      5\u001b[0m     \u001b[0mfile\u001b[0m \u001b[0;34m=\u001b[0m \u001b[0mjson\u001b[0m\u001b[0;34m.\u001b[0m\u001b[0mload\u001b[0m\u001b[0;34m(\u001b[0m\u001b[0mf\u001b[0m\u001b[0;34m)\u001b[0m\u001b[0;34m\u001b[0m\u001b[0;34m\u001b[0m\u001b[0m\n\u001b[1;32m      6\u001b[0m \u001b[0;34m\u001b[0m\u001b[0m\n",
      "\u001b[0;31mFileNotFoundError\u001b[0m: [Errno 2] No such file or directory: 'moves.json'"
     ]
    }
   ],
   "source": [
    "# if you want to insert a JSON file straight into collection\n",
    "import json\n",
    "\n",
    "with open('moves.json', 'r') as f:\n",
    "    file = json.load(f)\n",
    "\n",
    "col.insert_many(file)"
   ]
  },
  {
   "cell_type": "code",
   "execution_count": 9,
   "id": "demographic-collins",
   "metadata": {},
   "outputs": [],
   "source": [
    "# normal inserting\n",
    "name = ['Mizu Shuriken', '10 Man Boruto']\n",
    "type_ = ['Water', 'Electric']\n",
    "damage = [60, 40]\n",
    "for index in range(2):\n",
    "    col.insert_one({'name': name[index], 'type': type_[index], 'damage': damage[index]})"
   ]
  },
  {
   "cell_type": "code",
   "execution_count": 14,
   "id": "novel-classic",
   "metadata": {},
   "outputs": [
    {
     "name": "stdout",
     "output_type": "stream",
     "text": [
      "{'_id': ObjectId('615930453df99929c637098e'), 'name': 'Mizu Shuriken', 'type': 'Water', 'damage': 60}\n",
      "{'_id': ObjectId('615930453df99929c637098f'), 'name': '10 Man Boruto', 'type': 'Electric', 'damage': 20}\n"
     ]
    }
   ],
   "source": [
    "# searching all\n",
    "documents = col.find()\n",
    "for document in documents:\n",
    "    print(document)"
   ]
  },
  {
   "cell_type": "code",
   "execution_count": 57,
   "id": "quality-carry",
   "metadata": {},
   "outputs": [
    {
     "name": "stdout",
     "output_type": "stream",
     "text": [
      "{'_id': ObjectId('61586fcabd2f6ae7dc5f1f46'), 'name': 'Mizu Shuriken', 'type': 'Water', 'damage': 60}\n"
     ]
    }
   ],
   "source": [
    "documents = col.find({\n",
    "    'name' : {'$eq' : 'Mizu Shuriken'}\n",
    "})\n",
    "\n",
    "for document in documents:\n",
    "    print(document)"
   ]
  },
  {
   "cell_type": "code",
   "execution_count": 18,
   "id": "atlantic-chemical",
   "metadata": {},
   "outputs": [
    {
     "name": "stdout",
     "output_type": "stream",
     "text": [
      "{'_id': ObjectId('615930453df99929c637098f'), 'name': '10 Man Boruto', 'type': 'Electric', 'damage': 20}\n"
     ]
    }
   ],
   "source": [
    "documents = col.find({\n",
    "    '$and' : [{\n",
    "        'type' : {'$eq' : 'Electric'}\n",
    "    },\n",
    "    {\n",
    "       'damage' : {'$ne' : 30} \n",
    "    }]\n",
    "})\n",
    "\n",
    "for document in documents:\n",
    "    print(document)"
   ]
  },
  {
   "cell_type": "code",
   "execution_count": 59,
   "id": "nuclear-queensland",
   "metadata": {},
   "outputs": [
    {
     "name": "stdout",
     "output_type": "stream",
     "text": [
      "{'_id': ObjectId('61586fcabd2f6ae7dc5f1f46'), 'name': 'Mizu Shuriken', 'type': 'Water', 'damage': 60}\n",
      "{'_id': ObjectId('61586fcabd2f6ae7dc5f1f47'), 'name': '10 Man Boruto', 'type': 'Electric', 'damage': 40}\n"
     ]
    }
   ],
   "source": [
    "documents = col.find({\n",
    "    '$or' : [{\n",
    "        'type' : {'$eq' : 'Electric'}\n",
    "    },\n",
    "    {\n",
    "       'damage' : {'$ne' : 30} \n",
    "    }]\n",
    "})\n",
    "\n",
    "for document in documents:\n",
    "    print(document)"
   ]
  },
  {
   "cell_type": "code",
   "execution_count": 23,
   "id": "concerned-greeting",
   "metadata": {},
   "outputs": [
    {
     "name": "stdout",
     "output_type": "stream",
     "text": [
      "{'_id': ObjectId('615930453df99929c637098e'), 'name': 'Mizu Shuriken', 'type': 'Water', 'damage': 60}\n",
      "{'_id': ObjectId('615930453df99929c637098f'), 'name': '10 Man Boruto', 'type': 'Electric', 'damage': 30}\n"
     ]
    }
   ],
   "source": [
    "search = {\n",
    "    '$and' : [{\n",
    "        'type' : {'$eq' : 'Electric'}\n",
    "    },\n",
    "    {\n",
    "       'damage' : {'$ne' : 60} \n",
    "    }]\n",
    "}\n",
    "\n",
    "update = {'$set' : {'damage' : 30, 'type' : 'Water'}}\n",
    "\n",
    "col.update_one( search, update )\n",
    "\n",
    "documents = col.find()\n",
    "for document in documents:\n",
    "    print(document)"
   ]
  },
  {
   "cell_type": "code",
   "execution_count": 63,
   "id": "macro-belle",
   "metadata": {},
   "outputs": [
    {
     "name": "stdout",
     "output_type": "stream",
     "text": [
      "{'_id': ObjectId('61586fcabd2f6ae7dc5f1f46'), 'name': 'Mizu Shuriken', 'type': 'Water', 'damage': 60}\n"
     ]
    }
   ],
   "source": [
    "search = {\n",
    "    '$and' : [{\n",
    "        'type' : {'$eq' : 'Electric'}\n",
    "    },\n",
    "    {\n",
    "       'damage' : {'$ne' : 60} \n",
    "    }]\n",
    "}\n",
    "\n",
    "col.delete_one(search)\n",
    "\n",
    "documents = col.find()\n",
    "\n",
    "for document in documents:\n",
    "    print(document)"
   ]
  },
  {
   "cell_type": "code",
   "execution_count": 10,
   "id": "secure-berry",
   "metadata": {},
   "outputs": [
    {
     "name": "stdout",
     "output_type": "stream",
     "text": [
      "{'_id': ObjectId('615930453df99929c637098e'), 'name': 'Mizu Shuriken', 'type': 'Water', 'damage': 60}\n",
      "{'_id': ObjectId('615930453df99929c637098f'), 'name': '10 Man Boruto', 'type': 'Electric', 'damage': 40}\n"
     ]
    }
   ],
   "source": [
    "documents = col.find({\n",
    "    '$or' : [{\n",
    "        'type' : {'$ne' : 'Water'}\n",
    "    },\n",
    "    {\n",
    "        'name' : {'$eq' : 'Mizu Shuriken'}\n",
    "    }]\n",
    "})\n",
    "\n",
    "\n",
    "for doc in documents:\n",
    "    print(doc)"
   ]
  },
  {
   "cell_type": "code",
   "execution_count": null,
   "id": "stopped-pittsburgh",
   "metadata": {},
   "outputs": [],
   "source": []
  }
 ],
 "metadata": {
  "kernelspec": {
   "display_name": "Python 3",
   "language": "python",
   "name": "python3"
  },
  "language_info": {
   "codemirror_mode": {
    "name": "ipython",
    "version": 3
   },
   "file_extension": ".py",
   "mimetype": "text/x-python",
   "name": "python",
   "nbconvert_exporter": "python",
   "pygments_lexer": "ipython3",
   "version": "3.9.7"
  }
 },
 "nbformat": 4,
 "nbformat_minor": 5
}
