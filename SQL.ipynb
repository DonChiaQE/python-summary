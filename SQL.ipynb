{
 "cells": [
  {
   "cell_type": "code",
   "execution_count": 31,
   "id": "blank-suspension",
   "metadata": {},
   "outputs": [],
   "source": [
    "import sqlite3\n",
    "database = 'pokemon.db'\n",
    "conn = sqlite3.connect(database)\n",
    "cursor = conn.cursor()\n",
    "cursor.execute('''\n",
    "            CREATE TABLE IF NOT EXISTS \n",
    "            pokemonTable (\n",
    "            pokemonID INTEGER PRIMARY KEY AUTOINCREMENT, \n",
    "            pokemonName TEXT,\n",
    "            pokemonStats INTEGER\n",
    "            );\n",
    "''') # simply copy and paste from DB Browser, use multiline string. \n",
    "cursor.execute('INSERT INTO pokemon VALUES (?, ?, ?)', (None, 'Gekkouga', 24)) # use question marks to denote value, check python docs\n",
    "name = 'Gekkouga'\n",
    "stats = 24\n",
    "cursor.execute(f\"SELECT * FROM artist WHERE pokemonStats={stats} AND pokemonName='{name}'\") # i don't think '?' works with select\n",
    "result = cursor.fetchall() # fetch results from above query\n",
    "cursor.close() \n",
    "conn.commit() # remember to close and commit or else it wouldn't run properly\n",
    "conn.close()"
   ]
  },
  {
   "cell_type": "markdown",
   "id": "attempted-herald",
   "metadata": {},
   "source": [
    "## Basic SQL Commands (Must remember)\n",
    "\n",
    "\n",
    "SELECT * FROM TableName (selects all columns)\n",
    "\n",
    "SELECT * FROM TableName WHERE Value1=x AND Value2=y AND Value3=z \n",
    "\n",
    "SELECT * FROM TableName WHERE Value1=x AND Value2=y AND Value3=z ORDER BY Value2 <- If you want ordered list\n",
    "\n",
    "INSERT INTO TableName VALUES (?, ?, ?), (x, y, z)\n",
    "\n",
    "CREATE TABLE IF NOT EXISTS ..."
   ]
  },
  {
   "cell_type": "code",
   "execution_count": null,
   "id": "considerable-acrylic",
   "metadata": {},
   "outputs": [],
   "source": []
  }
 ],
 "metadata": {
  "kernelspec": {
   "display_name": "Python 3",
   "language": "python",
   "name": "python3"
  },
  "language_info": {
   "codemirror_mode": {
    "name": "ipython",
    "version": 3
   },
   "file_extension": ".py",
   "mimetype": "text/x-python",
   "name": "python",
   "nbconvert_exporter": "python",
   "pygments_lexer": "ipython3",
   "version": "3.9.7"
  }
 },
 "nbformat": 4,
 "nbformat_minor": 5
}
