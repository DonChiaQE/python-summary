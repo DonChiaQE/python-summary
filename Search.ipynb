{
 "cells": [
  {
   "cell_type": "code",
   "execution_count": 6,
   "id": "exceptional-howard",
   "metadata": {},
   "outputs": [],
   "source": [
    "def linear_search(arr, value):\n",
    "    for index, elem in enumerate(arr):\n",
    "        if value == elem:\n",
    "            return f'Found at index {index}'\n",
    "    return f'{value} not found'"
   ]
  },
  {
   "cell_type": "code",
   "execution_count": 37,
   "id": "spectacular-elizabeth",
   "metadata": {},
   "outputs": [],
   "source": [
    "def binary_search(arr, value):\n",
    "    low = 0\n",
    "    high = len(arr) - 1\n",
    "    \n",
    "    while low <= high:\n",
    "        mid = (low + high) // 2\n",
    "        if arr[mid] == value:\n",
    "            return f'Found at index {mid}'\n",
    "        elif arr[mid] > value:\n",
    "            high = mid - 1\n",
    "        else:\n",
    "            low = mid + 1\n",
    "            \n",
    "    return f'{value} not found'\n"
   ]
  },
  {
   "cell_type": "code",
   "execution_count": 38,
   "id": "biblical-endorsement",
   "metadata": {},
   "outputs": [
    {
     "data": {
      "text/plain": [
       "'Found at index 2'"
      ]
     },
     "execution_count": 38,
     "metadata": {},
     "output_type": "execute_result"
    }
   ],
   "source": [
    "def binary_search_recursive(arr, low, high, value):\n",
    "    if high >= low:\n",
    "        mid = (high + low) // 2\n",
    "        if arr[mid] == value:\n",
    "            return f'Found at index {mid}'\n",
    "        elif arr[mid] > value:\n",
    "            return binary_search_recursive(arr, low, mid-1, value)\n",
    "        else:\n",
    "            return binary_search_recursive(arr, mid+1, high, value)\n",
    "    return -1\n",
    "\n",
    "binary_search_recursive([1,2,3,4,5,6], 0, 5, 3)"
   ]
  },
  {
   "cell_type": "code",
   "execution_count": null,
   "id": "defensive-outside",
   "metadata": {},
   "outputs": [],
   "source": []
  }
 ],
 "metadata": {
  "kernelspec": {
   "display_name": "Python 3",
   "language": "python",
   "name": "python3"
  },
  "language_info": {
   "codemirror_mode": {
    "name": "ipython",
    "version": 3
   },
   "file_extension": ".py",
   "mimetype": "text/x-python",
   "name": "python",
   "nbconvert_exporter": "python",
   "pygments_lexer": "ipython3",
   "version": "3.9.7"
  }
 },
 "nbformat": 4,
 "nbformat_minor": 5
}
