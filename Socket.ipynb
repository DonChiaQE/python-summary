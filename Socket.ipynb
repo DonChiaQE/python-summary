{
 "cells": [
  {
   "cell_type": "code",
   "execution_count": null,
   "id": "injured-japan",
   "metadata": {},
   "outputs": [],
   "source": [
    "# server\n",
    "import socket\n",
    "listen_socket = socket.socket()\n",
    "listen_socket.bind(('127.0.0.1', 6679))\n",
    "listen_socket.listen()\n",
    "chat_socket, addr = listen_socket.accept()\n",
    "\n",
    "while True:\n",
    "    data = input('Input server: ').encode()\n",
    "    chat_socket.sendall(data+b'\\n')\n",
    "    if data == b'quit':\n",
    "        break\n",
    "    print('waiting for client')\n",
    "    data = b''\n",
    "    while b'\\n' not in data:\n",
    "        data += chat_socket.recv(1024)\n",
    "    if data == b'quit\\n':\n",
    "        break\n",
    "    print('client wrote: ' + data.decode())\n",
    "    \n",
    "chat_socket.close()\n",
    "listen_socket.close()"
   ]
  },
  {
   "cell_type": "code",
   "execution_count": null,
   "id": "capital-monkey",
   "metadata": {},
   "outputs": [],
   "source": [
    "# client\n",
    "import socket\n",
    "chat_socket = socket.socket()\n",
    "\n",
    "address = input('enter ipv4: ')\n",
    "port = int('enter port: ')\n",
    "\n",
    "chat_socket.connect((address, port))\n",
    "while True:\n",
    "    print('waiting for server')\n",
    "    data = b''\n",
    "    while b'\\n' not in data:\n",
    "        data += chat_socket.recv(1024)\n",
    "    if data == b'quit\\n':\n",
    "        break\n",
    "    print('server wrote: ' + data.decode())\n",
    "    data = input('input client: ').encode()\n",
    "    chat_socket.sendall(data + b'\\n')\n",
    "    if data == b'quit':\n",
    "        break\n",
    "        \n",
    "chat_socket.close()"
   ]
  }
 ],
 "metadata": {
  "kernelspec": {
   "display_name": "Python 3",
   "language": "python",
   "name": "python3"
  },
  "language_info": {
   "codemirror_mode": {
    "name": "ipython",
    "version": 3
   },
   "file_extension": ".py",
   "mimetype": "text/x-python",
   "name": "python",
   "nbconvert_exporter": "python",
   "pygments_lexer": "ipython3",
   "version": "3.9.7"
  }
 },
 "nbformat": 4,
 "nbformat_minor": 5
}
