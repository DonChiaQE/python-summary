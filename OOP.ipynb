{
 "cells": [
  {
   "cell_type": "code",
   "execution_count": null,
   "id": "resistant-establishment",
   "metadata": {},
   "outputs": [],
   "source": [
    "class Person:\n",
    "    def __init__(self, name, value):\n",
    "        self.name = name\n",
    "        self.age = age\n",
    "    \n",
    "    def increment_age(self):\n",
    "        self.age += 1\n",
    "        \n",
    "    def get_age(self):\n",
    "        return self.age\n",
    "    \n",
    "class Dylan(Person):\n",
    "    def __init__(self, name, value, subjects):\n",
    "        super().__init__(name, value)\n",
    "        self.subjects = subjects\n",
    "        \n",
    "    def increment_age(self):\n",
    "        super().increment_age() # inheriting Person's function\n",
    "\n",
    "    def get_age(self):\n",
    "        return super().get_age() # inherting Person's function and also returning it\n"
   ]
  }
 ],
 "metadata": {
  "kernelspec": {
   "display_name": "Python 3",
   "language": "python",
   "name": "python3"
  },
  "language_info": {
   "codemirror_mode": {
    "name": "ipython",
    "version": 3
   },
   "file_extension": ".py",
   "mimetype": "text/x-python",
   "name": "python",
   "nbconvert_exporter": "python",
   "pygments_lexer": "ipython3",
   "version": "3.9.7"
  }
 },
 "nbformat": 4,
 "nbformat_minor": 5
}
