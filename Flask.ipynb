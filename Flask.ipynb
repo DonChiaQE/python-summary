{
 "cells": [
  {
   "cell_type": "code",
   "execution_count": null,
   "id": "unavailable-pregnancy",
   "metadata": {},
   "outputs": [],
   "source": [
    "from flask import Flask, request, render_template\n",
    "\n",
    "app = Flask(__name__)\n",
    "\n",
    "@app.route('/', methods=['POST', 'GET'])\n",
    "def index():\n",
    "    if request.method = 'POST':\n",
    "        username = request.form.get('username')\n",
    "        password = request.form.get('password')\n",
    "#         do stuff here\n",
    "        return render_template('index.html', sql_docs=sql_docs)\n",
    "    else: # GET\n",
    "        return render_template('index.html')\n",
    "    \n",
    "if __name__ == '__main__':\n",
    "#     app.debug = True (only use this if you're using IDLE, it will crash jupyter)\n",
    "    app.run() # alternatively you can use app.run('0.0.0.0', 8080)"
   ]
  },
  {
   "cell_type": "markdown",
   "id": "egyptian-benchmark",
   "metadata": {},
   "source": [
    "## HTML\n",
    "\n",
    "    <!DOCTYPE html>\n",
    "    <html>\n",
    "        <body>\n",
    "            <form action='/' method='POST' enctype=\"multipart/form-data\"/>\n",
    "                <input type='text' name='username' />\n",
    "                <input type='text' name='password />\n",
    "                <input type='submit' />\n",
    "            </form>\n",
    "        </body>\n",
    "    </html>\n",
    "    \n",
    "### Jinja and HTML\n",
    "    <table>\n",
    "        <thead>\n",
    "            <tr>\n",
    "                <td>Username</td>\n",
    "                <td>Password</td>\n",
    "            </tr>\n",
    "        </thead>\n",
    "        <tbody>\n",
    "            {% for user in users %}\n",
    "                <tr>\n",
    "                    <td>{{user[0]}}</td>\n",
    "                    <td>{{user[1]}}</td>\n",
    "                </tr>\n",
    "            {% endfor %}\n",
    "        </tbody>\n",
    "    </table>\n",
    "            "
   ]
  },
  {
   "cell_type": "code",
   "execution_count": null,
   "id": "aging-payment",
   "metadata": {},
   "outputs": [],
   "source": []
  }
 ],
 "metadata": {
  "kernelspec": {
   "display_name": "Python 3",
   "language": "python",
   "name": "python3"
  },
  "language_info": {
   "codemirror_mode": {
    "name": "ipython",
    "version": 3
   },
   "file_extension": ".py",
   "mimetype": "text/x-python",
   "name": "python",
   "nbconvert_exporter": "python",
   "pygments_lexer": "ipython3",
   "version": "3.9.7"
  }
 },
 "nbformat": 4,
 "nbformat_minor": 5
}
