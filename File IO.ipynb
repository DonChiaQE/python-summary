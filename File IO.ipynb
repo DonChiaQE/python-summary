{
 "cells": [
  {
   "cell_type": "code",
   "execution_count": 17,
   "id": "identified-sector",
   "metadata": {
    "scrolled": true
   },
   "outputs": [
    {
     "name": "stdout",
     "output_type": "stream",
     "text": [
      "today: Tuesday 08\n"
     ]
    }
   ],
   "source": [
    "import datetime\n",
    "# today's date\n",
    "today = datetime.date.today()\n",
    "\n",
    "today = datetime.datetime.today()\n",
    "\n",
    "print('today:', today.strftime('%A %I'))\n",
    "\n",
    "\n",
    "\n",
    "# to subtract time from date\n",
    "# today_minus_30 = today - datetime.timedelta(days = 30)\n",
    "# print('30 days ago:', today_minus_30)\n",
    "# print(today_minus_30.strftime('%A %d %B %Y'))"
   ]
  },
  {
   "cell_type": "code",
   "execution_count": null,
   "id": "gothic-square",
   "metadata": {},
   "outputs": [],
   "source": [
    "with open('file.txt', 'r') as f:\n",
    "    for line in f:\n",
    "        print(line)\n",
    "        \n",
    "# close file\n",
    "\n",
    "f = open('file.txt', 'r')\n",
    "file = []\n",
    "for item in f:\n",
    "    file.append(item.strip().split(','))\n",
    "f.close()\n",
    "\n",
    "f = open('file.txt', 'w')\n"
   ]
  },
  {
   "cell_type": "code",
   "execution_count": null,
   "id": "stable-consumer",
   "metadata": {},
   "outputs": [],
   "source": [
    "import csv\n",
    "with open('file.csv', 'r') as file:\n",
    "    file_reader = csv.reader(file, delimiter='')\n",
    "    line_count = 0\n",
    "    for row in file_reader:\n",
    "        if line_count == 0: # headers of the columns\n",
    "            print('Column names are', row[0], 'and', row[1])\n",
    "            line_count += 1\n",
    "        else:\n",
    "            array.append(row)\n",
    "            line_count += 1\n",
    "    \n",
    "with open('file_2.csv', mode='w') as file_2:\n",
    "    file_writer = csv.writer(file_2, delimiter=',')\n",
    "    for i in range(len(array)):\n",
    "        file_writer.writerow(array[i])"
   ]
  },
  {
   "cell_type": "code",
   "execution_count": 24,
   "id": "lovely-longer",
   "metadata": {},
   "outputs": [
    {
     "name": "stdout",
     "output_type": "stream",
     "text": [
      "|\n"
     ]
    }
   ],
   "source": [
    "import unicodedata\n",
    "# unicodedata.lookup('0000')\n",
    "print('\\u007C')"
   ]
  },
  {
   "cell_type": "code",
   "execution_count": null,
   "id": "christian-vancouver",
   "metadata": {},
   "outputs": [],
   "source": []
  }
 ],
 "metadata": {
  "kernelspec": {
   "display_name": "Python 3",
   "language": "python",
   "name": "python3"
  },
  "language_info": {
   "codemirror_mode": {
    "name": "ipython",
    "version": 3
   },
   "file_extension": ".py",
   "mimetype": "text/x-python",
   "name": "python",
   "nbconvert_exporter": "python",
   "pygments_lexer": "ipython3",
   "version": "3.9.7"
  }
 },
 "nbformat": 4,
 "nbformat_minor": 5
}
