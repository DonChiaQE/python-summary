{
 "cells": [
  {
   "cell_type": "code",
   "execution_count": 40,
   "id": "humanitarian-medium",
   "metadata": {},
   "outputs": [],
   "source": [
    "def quick_sort(arr):\n",
    "    if len(arr) == 0:\n",
    "        return []\n",
    "    else:\n",
    "        pivot = arr[0]\n",
    "        greater = []\n",
    "        lesser = []\n",
    "        for i in arr[1:]:\n",
    "            if i > pivot:\n",
    "                greater.append(i)\n",
    "            else:\n",
    "                lesser.append(i)\n",
    "                \n",
    "        greater = quick_sort(greater)\n",
    "        lesser = quick_sort(lesser)\n",
    "        \n",
    "    return lesser + [pivot] + greater"
   ]
  },
  {
   "cell_type": "code",
   "execution_count": 133,
   "id": "under-costs",
   "metadata": {},
   "outputs": [],
   "source": [
    "def quicksort(arr):\n",
    "    if len(arr) == 0:\n",
    "        return []\n",
    "    else:\n",
    "        pivot = arr[0]\n",
    "        greater = []\n",
    "        lesser = []\n",
    "        for i in arr[1:]:\n",
    "            if i > pivot:\n",
    "                greater.append(i)\n",
    "            else:\n",
    "                lesser.append(i)\n",
    "        greater = quicksort(greater)\n",
    "        lesser = quicksort(lesser)\n",
    "    return lesser + [pivot] + greater"
   ]
  },
  {
   "cell_type": "code",
   "execution_count": 41,
   "id": "ambient-lawrence",
   "metadata": {},
   "outputs": [],
   "source": [
    "def merge_sort(arr):\n",
    "    if len(arr) > 1:\n",
    "        mid = len(arr) // 2\n",
    "        left = arr[:mid]\n",
    "        right = arr[mid:]\n",
    "        \n",
    "        merge_sort(left)\n",
    "        merge_sort(right)\n",
    "        \n",
    "        i = j = k = 0\n",
    "        while i < len(left) and j < len(right):\n",
    "            if left[i] < right[j]:\n",
    "                arr[k] = left[i]\n",
    "                i += 1\n",
    "            else:\n",
    "                arr[k] = right[j]\n",
    "                j += 1\n",
    "            k += 1\n",
    "            \n",
    "        while i < len(left):\n",
    "            arr[k] = left[i]\n",
    "            i += 1\n",
    "            k += 1\n",
    "        \n",
    "        while j < len(right):\n",
    "            arr[k] = right[j]\n",
    "            j += 1\n",
    "            k += 1\n",
    "            \n",
    "    return arr"
   ]
  },
  {
   "cell_type": "code",
   "execution_count": 134,
   "id": "previous-counter",
   "metadata": {},
   "outputs": [
    {
     "data": {
      "text/plain": [
       "[2, 3, 4, 4, 6]"
      ]
     },
     "execution_count": 134,
     "metadata": {},
     "output_type": "execute_result"
    }
   ],
   "source": [
    "def bubble_sort(arr):\n",
    "    length = len(arr)\n",
    "    for i in range(length):\n",
    "        for j in range(length-1-i):\n",
    "            if arr[j] > arr[j+1]:\n",
    "                arr[j], arr[j+1] = arr[j+1], arr[j]\n",
    "    return arr\n",
    "bubble([3,4,2,4,6])"
   ]
  },
  {
   "cell_type": "code",
   "execution_count": 138,
   "id": "running-punishment",
   "metadata": {},
   "outputs": [
    {
     "data": {
      "text/plain": [
       "([1, 2, 3, 3, 4, 8], 15, 1)"
      ]
     },
     "execution_count": 138,
     "metadata": {},
     "output_type": "execute_result"
    }
   ],
   "source": [
    "def bubble_sort(arr):\n",
    "    comp = 0\n",
    "    swap_count = 0\n",
    "    for i in range(len(arr)):\n",
    "        for j in range(len(arr)-1-i):\n",
    "            comp += 1\n",
    "            if arr[j] > arr[j+1]:\n",
    "                arr[j], arr[j+1] = arr[j+1], arr[j]\n",
    "                swap_count += 1\n",
    "    return arr, comp, swap_count\n",
    "\n",
    "bubble_sort([1,2,3,4,3,8])"
   ]
  },
  {
   "cell_type": "code",
   "execution_count": 112,
   "id": "posted-clearance",
   "metadata": {},
   "outputs": [
    {
     "data": {
      "text/plain": [
       "([1, 2, 3, 3, 4, 8], 15, 1)"
      ]
     },
     "execution_count": 112,
     "metadata": {},
     "output_type": "execute_result"
    }
   ],
   "source": [
    "def bubble_sort_optimised(arr):\n",
    "    comp = 0\n",
    "    swap_count = 0\n",
    "    swapped = False\n",
    "    for i in range(len(arr)-1):\n",
    "        for j in range(len(arr)-1-i):\n",
    "            comp += 1\n",
    "            if arr[j] > arr[j+1]:\n",
    "                arr[j], arr[j+1] = arr[j+1], arr[j]\n",
    "                swap_count += 1\n",
    "                swapped = True\n",
    "        if swapped == False:\n",
    "            break\n",
    "    return arr, comp, swap_count\n",
    "\n",
    "bubble_sort_optimised([1,2,3,4,3,8])"
   ]
  },
  {
   "cell_type": "code",
   "execution_count": 123,
   "id": "convertible-police",
   "metadata": {},
   "outputs": [],
   "source": [
    "def bubble_sort_recursive(arr):\n",
    "    for index, elem in enumerate(arr):\n",
    "        try:\n",
    "            if arr[index+1] < elem:\n",
    "                arr[index] = arr[index+1]\n",
    "                arr[index+1] = elem\n",
    "                bubble_sort(arr)\n",
    "        except IndexError:\n",
    "            pass\n",
    "    return arr"
   ]
  },
  {
   "cell_type": "code",
   "execution_count": 125,
   "id": "fabulous-buddy",
   "metadata": {},
   "outputs": [],
   "source": [
    "def insertion_sort(arr):\n",
    "    length = len(arr)\n",
    "    for i in range(1, length):\n",
    "        value = arr[i]\n",
    "        comp = i - 1\n",
    "        while comp >= 0 and arr[comp] > value:\n",
    "            arr[comp+1], arr[comp] = arr[comp], arr[comp+1]\n",
    "            comp -= 1\n",
    "    return arr"
   ]
  },
  {
   "cell_type": "code",
   "execution_count": null,
   "id": "threatened-liverpool",
   "metadata": {},
   "outputs": [],
   "source": []
  }
 ],
 "metadata": {
  "kernelspec": {
   "display_name": "Python 3",
   "language": "python",
   "name": "python3"
  },
  "language_info": {
   "codemirror_mode": {
    "name": "ipython",
    "version": 3
   },
   "file_extension": ".py",
   "mimetype": "text/x-python",
   "name": "python",
   "nbconvert_exporter": "python",
   "pygments_lexer": "ipython3",
   "version": "3.9.7"
  }
 },
 "nbformat": 4,
 "nbformat_minor": 5
}
