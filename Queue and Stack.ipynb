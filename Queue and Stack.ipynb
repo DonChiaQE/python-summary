{
 "cells": [
  {
   "cell_type": "code",
   "execution_count": 4,
   "id": "attractive-better",
   "metadata": {},
   "outputs": [
    {
     "data": {
      "text/plain": [
       "[5, 4, 3, 2, 1]"
      ]
     },
     "execution_count": 4,
     "metadata": {},
     "output_type": "execute_result"
    }
   ],
   "source": [
    "class Queue: # FIFO\n",
    "    def __init__(self):\n",
    "        self.items = []\n",
    "        \n",
    "    def enqueue(self, val):\n",
    "        self.items.insert(0, val) # insert into first index instead of usual appending to the final index\n",
    "        \n",
    "    def dequeue(self):\n",
    "        self.items.pop()\n",
    "        \n",
    "    def show_list(self):\n",
    "        return self.items\n",
    "\n",
    "q = Queue()\n",
    "q.enqueue(1)\n",
    "q.enqueue(2)\n",
    "q.enqueue(3)\n",
    "q.enqueue(4)\n",
    "q.enqueue(5)\n",
    "q.show_list()"
   ]
  },
  {
   "cell_type": "code",
   "execution_count": 8,
   "id": "nutritional-february",
   "metadata": {},
   "outputs": [],
   "source": [
    "class Stack: # LIFO \n",
    "    def __init__(self):\n",
    "        self.items = []\n",
    "        \n",
    "    def enqueue(self, val):\n",
    "        self.items.append(val)\n",
    "    \n",
    "    def dequeue(self):\n",
    "        self.items.pop()\n",
    "        \n",
    "    def show_list(self):\n",
    "        return self.items"
   ]
  },
  {
   "cell_type": "code",
   "execution_count": 26,
   "id": "after-transition",
   "metadata": {},
   "outputs": [
    {
     "data": {
      "text/plain": [
       "[5, 6, 1]"
      ]
     },
     "execution_count": 26,
     "metadata": {},
     "output_type": "execute_result"
    }
   ],
   "source": [
    "class CircularQueue:\n",
    "\n",
    "    #Constructor\n",
    "    def __init__(self):\n",
    "        self.queue = list()\n",
    "        self.head = 0\n",
    "        self.tail = 0\n",
    "        self.maxSize = 8\n",
    "\n",
    "    #Adding elements to the queue\n",
    "    def enqueue(self,data):\n",
    "        if self.size() == self.maxSize-1:\n",
    "            return (\"Queue Full!\")\n",
    "        self.queue.append(data)\n",
    "        self.tail = (self.tail + 1) % self.maxSize\n",
    "        return True\n",
    "\n",
    "    #Removing elements from the queue\n",
    "    def dequeue(self):\n",
    "        if self.size()==0:\n",
    "            return (\"Queue Empty!\") \n",
    "        data = self.queue[self.head]\n",
    "        self.head = (self.head + 1) % self.maxSize\n",
    "        return data\n",
    "\n",
    "    #Calculating the size of the queue\n",
    "    def size(self):\n",
    "        if self.tail>=self.head:\n",
    "            return (self.tail-self.head)\n",
    "        return (self.maxSize - (self.head-self.tail))\n",
    "\n",
    "cq = CircularQueue()\n",
    "cq.enqueue(5)\n",
    "cq.enqueue(6)\n",
    "cq.enqueue(1)\n",
    "cq.queue"
   ]
  },
  {
   "cell_type": "code",
   "execution_count": null,
   "id": "addressed-particle",
   "metadata": {},
   "outputs": [],
   "source": []
  }
 ],
 "metadata": {
  "kernelspec": {
   "display_name": "Python 3",
   "language": "python",
   "name": "python3"
  },
  "language_info": {
   "codemirror_mode": {
    "name": "ipython",
    "version": 3
   },
   "file_extension": ".py",
   "mimetype": "text/x-python",
   "name": "python",
   "nbconvert_exporter": "python",
   "pygments_lexer": "ipython3",
   "version": "3.9.7"
  }
 },
 "nbformat": 4,
 "nbformat_minor": 5
}
